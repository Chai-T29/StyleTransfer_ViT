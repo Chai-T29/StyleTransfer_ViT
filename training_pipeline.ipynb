{
  "cells": [
    {
      "cell_type": "markdown",
      "id": "7da88e60-ac34-40da-ae51-8b512cda8d59",
      "metadata": {
        "id": "7da88e60-ac34-40da-ae51-8b512cda8d59"
      },
      "source": [
        "# Style Transfer with Vision Transformer\n",
        "Original Paper: https://arxiv.org/abs/2105.14576"
      ]
    },
    {
      "cell_type": "markdown",
      "id": "gvdTQxW78mut",
      "metadata": {
        "id": "gvdTQxW78mut"
      },
      "source": [
        "### Environment Setup"
      ]
    },
    {
      "cell_type": "code",
      "execution_count": 1,
      "id": "4mo2IkNb6Y7F",
      "metadata": {
        "colab": {
          "base_uri": "https://localhost:8080/"
        },
        "id": "4mo2IkNb6Y7F",
        "outputId": "6bb093a6-1854-4d77-b429-bc2b302528c1"
      },
      "outputs": [
        {
          "output_type": "stream",
          "name": "stdout",
          "text": [
            "Mounted at /content/drive\n",
            "/content/drive/MyDrive/Deep_Learning/StyleTransfer_ViT\n",
            "\u001b[0m\u001b[01;34mbest_model\u001b[0m/  \u001b[01;34mlightning_logs_old\u001b[0m/  \u001b[01;34mpredictions2\u001b[0m/  training_pipeline_0.ipynb\n",
            "\u001b[01;34mdata\u001b[0m/        \u001b[01;34mmodel\u001b[0m/               \u001b[01;34mraw_data\u001b[0m/      training_pipeline.ipynb\n",
            "LICENSE      \u001b[01;34mpredictions\u001b[0m/         README.md      visualizing_results.ipynb\n"
          ]
        }
      ],
      "source": [
        "# Import the drive module from Google Colab to access files stored in Google Drive\n",
        "from google.colab import drive\n",
        "import sys\n",
        "drive.mount('/content/drive')  # Mount Google Drive\n",
        "\n",
        "# Navigate to project folder (make sure you put the correct path here!)\n",
        "%cd drive/MyDrive/Deep_Learning/StyleTransfer_ViT\n",
        "sys.path.append(\"drive/MyDrive/Deep_Learning/StyleTransfer_ViT\")  # Add to Python path--for sanity\n",
        "%ls  # List folder contents"
      ]
    },
    {
      "cell_type": "code",
      "execution_count": 2,
      "id": "b82325d7-6c89-443d-8ec7-6d86264937c0",
      "metadata": {
        "id": "b82325d7-6c89-443d-8ec7-6d86264937c0"
      },
      "outputs": [],
      "source": [
        "%%capture\n",
        "# Install PyTorch Requirements (Colab only)\n",
        "!pip install torch==2.5.1 torchvision==0.20.1 pytorch-lightning==2.0.2\n",
        "\n",
        "# Standard imports\n",
        "import os, glob, gc, random\n",
        "from os.path import join\n",
        "import numpy as np\n",
        "import pandas as pd\n",
        "import matplotlib.pyplot as plt\n",
        "%matplotlib inline\n",
        "\n",
        "# PyTorch core\n",
        "import torch\n",
        "\n",
        "# PyTorch Lightning for easier training loops\n",
        "import pytorch_lightning as pl  # High-level PyTorch interface\n",
        "from pytorch_lightning.callbacks import EarlyStopping, ModelCheckpoint  # Useful training callbacks\n",
        "\n",
        "# Progress bar\n",
        "from tqdm.notebook import tqdm  # Pretty progress bars in notebooks"
      ]
    },
    {
      "cell_type": "code",
      "source": [
        "SEED = 42\n",
        "\n",
        "os.environ[\"PYTHONHASHSEED\"] = str(SEED)\n",
        "random.seed(SEED)\n",
        "np.random.seed(SEED)\n",
        "\n",
        "torch.manual_seed(SEED)\n",
        "if torch.cuda.is_available():\n",
        "    torch.cuda.manual_seed(SEED)\n",
        "    torch.cuda.manual_seed_all(SEED)\n",
        "\n",
        "pl.seed_everything(SEED, workers=True)\n",
        "torch.backends.cudnn.deterministic = True\n",
        "torch.backends.cudnn.benchmark = False"
      ],
      "metadata": {
        "colab": {
          "base_uri": "https://localhost:8080/"
        },
        "id": "0xy5Kl-qPdTk",
        "outputId": "912c5270-c60d-42c9-c254-ecb8b9cf416b"
      },
      "id": "0xy5Kl-qPdTk",
      "execution_count": 3,
      "outputs": [
        {
          "output_type": "stream",
          "name": "stderr",
          "text": [
            "INFO:lightning_fabric.utilities.seed:Global seed set to 42\n"
          ]
        }
      ]
    },
    {
      "cell_type": "code",
      "source": [
        "# DO YOU WISH TO TRAIN THE MODEL?\n",
        "TRAIN_MODEL = True\n",
        "TEST_MODEL = False\n",
        "MODEL_VERSION = 3       # StyTR2 = 2; StyTR3 = 3"
      ],
      "metadata": {
        "id": "8GxPqtOby4xi"
      },
      "id": "8GxPqtOby4xi",
      "execution_count": 4,
      "outputs": []
    },
    {
      "cell_type": "markdown",
      "id": "0dc117cb-8d2e-43b0-9b7f-55e87944b2fa",
      "metadata": {
        "id": "0dc117cb-8d2e-43b0-9b7f-55e87944b2fa"
      },
      "source": [
        "### Data Module Setup"
      ]
    },
    {
      "cell_type": "code",
      "execution_count": 5,
      "id": "1232e744-5960-4d0e-bb52-1f5602f30937",
      "metadata": {
        "id": "1232e744-5960-4d0e-bb52-1f5602f30937"
      },
      "outputs": [],
      "source": [
        "## UPDATE THE BELOW PARAMETERS AS NEEDED ##\n",
        "# Data dir\n",
        "STYLE_PATH = \"raw_data/style\"\n",
        "CONTENT_PATH = \"raw_data/content\"\n",
        "\n",
        "# Setting up data\n",
        "NUM_STYLES_PER_IMAGE = 10       # choose either 10 and 20 for simplicity\n",
        "\n",
        "TVT_SPLIT = [0.7 - 1/(NUM_STYLES_PER_IMAGE), 0.3, 1/(NUM_STYLES_PER_IMAGE)]\n",
        "\n",
        "# Dataloader\n",
        "BATCH_SIZE = 8  # 8, as per paper. change accumulate gradients accordingly\n",
        "NUM_WORKERS = 6\n",
        "PREFETCH_FACTOR = 3\n",
        "PIN_MEMORY = True"
      ]
    },
    {
      "cell_type": "code",
      "execution_count": 6,
      "id": "f37a01e1-d3cc-4272-a8d6-9f68c73dfa0b",
      "metadata": {
        "id": "f37a01e1-d3cc-4272-a8d6-9f68c73dfa0b"
      },
      "outputs": [],
      "source": [
        "from data.data_module import StyleTransferDM\n",
        "\n",
        "# Data Module Instance\n",
        "if TRAIN_MODEL or TEST_MODEL:\n",
        "    data_module = StyleTransferDM(\n",
        "        STYLE_PATH,\n",
        "        CONTENT_PATH,\n",
        "        num_styles_per_image=NUM_STYLES_PER_IMAGE,\n",
        "        train_val_test_split=TVT_SPLIT,\n",
        "        batch_size=BATCH_SIZE,\n",
        "        num_workers=NUM_WORKERS,\n",
        "        prefetch_factor=PREFETCH_FACTOR,\n",
        "        pin_memory=PIN_MEMORY\n",
        "    )"
      ]
    },
    {
      "cell_type": "markdown",
      "id": "47357284-054c-4f56-bc25-be620169b5e5",
      "metadata": {
        "id": "47357284-054c-4f56-bc25-be620169b5e5"
      },
      "source": [
        "### Model Setup"
      ]
    },
    {
      "cell_type": "code",
      "source": [
        "## UPDATE THE BELOW PARAMETERS AS NEEDED ##\n",
        "# Universal\n",
        "D_MODEL = 512\n",
        "\n",
        "# VGG\n",
        "IMG_HEIGHT = 224\n",
        "IMG_WIDTH = 224\n",
        "EXTRACTION_LAYERS=[8, 15, 20, 26, 31, 35]\n",
        "\n",
        "# Patching\n",
        "N = 18\n",
        "S = 1\n",
        "PATCH_SIZE = 8\n",
        "\n",
        "# Content Encoder\n",
        "N_HEAD_CONTENT = 8  # as per GH\n",
        "DIM_FEEDFORWARD_CONTENT = 2048  # as per GH\n",
        "DROPOUT_CONTENT = 0.1  # as per GH\n",
        "N_LAYERS_CONTENT = 3  # as per GH\n",
        "\n",
        "# Style Encoder\n",
        "N_HEAD_STYLE = 8  # as per GH\n",
        "DIM_FEEDFORWARD_STYLE = 2048  # as per GH\n",
        "DROPOUT_STYLE = 0.1  # as per GH\n",
        "N_LAYERS_STYLE = 3  # as per GH\n",
        "\n",
        "# Decoder\n",
        "N_HEAD_DEC = 8  # as per GH\n",
        "DIM_FEEDFORWARD_DEC = 2048  # as per GH\n",
        "DROPOUT_DEC = 0.1  # as per GH\n",
        "N_LAYERS_DEC = 3  # as per GH\n",
        "\n",
        "# Optimization\n",
        "LR = 0.0005  # as per paper\n",
        "if MODEL_VERSION == 2:\n",
        "    LAMBDAS = [10, 7, 70, 1]  # as per paper: [10, 7, 50, 1]; as per GH: [10, 7, 70, 1]\n",
        "elif MODEL_VERSION == 3:\n",
        "    LAMBDAS = [10, 7, 70, 1, 10]    # additional lambda for sep_loss\n",
        "    MARGIN = 2.0    # minimum gap between stylized and reverse stylized images\n",
        "else:\n",
        "    raise ValueError(\"Invalid model version\")\n",
        "\n",
        "# Optimizer\n",
        "TRAINING_STYLE = \"original\"     # \"original\" or \"plateau\"\n",
        "if TRAINING_STYLE == \"plateau\":\n",
        "    LR_DECAY = 0.5\n",
        "    LR_PATIENCE = 500\n",
        "elif TRAINING_STYLE == \"original\":\n",
        "    LR_DECAY = 0.05\n",
        "    LR_PATIENCE = 1\n",
        "BETAS = (0.9, 0.999)  # for Adam optimizer\n",
        "\n",
        "# Predictions\n",
        "if MODEL_VERSION == 2:\n",
        "    RESULTS_PATH = \"predictions\"\n",
        "elif MODEL_VERSION == 3:\n",
        "    RESULTS_PATH = \"predictions2\"\n",
        "else:\n",
        "    raise ValueError(\"Invalid model version\")\n",
        "os.makedirs(RESULTS_PATH, exist_ok=True)"
      ],
      "metadata": {
        "id": "ONV43pQfwbpt"
      },
      "id": "ONV43pQfwbpt",
      "execution_count": 7,
      "outputs": []
    },
    {
      "cell_type": "code",
      "source": [
        "from re import M\n",
        "if MODEL_VERSION == 2:\n",
        "    from model.network import StyTR2 as StyTR\n",
        "elif MODEL_VERSION == 3:\n",
        "    from model.network2 import StyTR3 as StyTR\n",
        "else:\n",
        "    raise ValueError(\"Invalid model version\")\n",
        "\n",
        "if TRAIN_MODEL:\n",
        "    # Model Instance\n",
        "    if MODEL_VERSION == 2:\n",
        "        model = StyTR(\n",
        "            d_model=D_MODEL,\n",
        "            img_height=IMG_HEIGHT,\n",
        "            img_width=IMG_WIDTH,\n",
        "            extraction_layers=EXTRACTION_LAYERS,\n",
        "            n=N,\n",
        "            s=S,\n",
        "            patch_size_content=PATCH_SIZE,\n",
        "            n_head_content=N_HEAD_CONTENT,\n",
        "            dim_feedforward_content=DIM_FEEDFORWARD_CONTENT,\n",
        "            dropout_content=DROPOUT_CONTENT,\n",
        "            n_layers_content=N_LAYERS_CONTENT,\n",
        "            patch_size_style=PATCH_SIZE,\n",
        "            n_head_style=N_HEAD_STYLE,\n",
        "            dim_feedforward_style=DIM_FEEDFORWARD_STYLE,\n",
        "            dropout_style=DROPOUT_STYLE,\n",
        "            n_layers_style=N_LAYERS_STYLE,\n",
        "            n_head_dec=N_HEAD_DEC,\n",
        "            dim_feedforward_dec=DIM_FEEDFORWARD_DEC,\n",
        "            dropout_dec=DROPOUT_DEC,\n",
        "            n_layers_dec=N_LAYERS_DEC,\n",
        "            lr=LR,\n",
        "            lambdas=LAMBDAS,\n",
        "            lr_patience=LR_PATIENCE,\n",
        "            lr_decay=LR_DECAY,\n",
        "            betas=BETAS,\n",
        "            results_path=RESULTS_PATH\n",
        "        )\n",
        "    elif MODEL_VERSION == 3:\n",
        "        model = StyTR(\n",
        "            d_model=D_MODEL,\n",
        "            img_height=IMG_HEIGHT,\n",
        "            img_width=IMG_WIDTH,\n",
        "            extraction_layers=EXTRACTION_LAYERS,\n",
        "            n=N,\n",
        "            s=S,\n",
        "            patch_size_content=PATCH_SIZE,\n",
        "            n_head_content=N_HEAD_CONTENT,\n",
        "            dim_feedforward_content=DIM_FEEDFORWARD_CONTENT,\n",
        "            dropout_content=DROPOUT_CONTENT,\n",
        "            n_layers_content=N_LAYERS_CONTENT,\n",
        "            patch_size_style=PATCH_SIZE,\n",
        "            n_head_style=N_HEAD_STYLE,\n",
        "            dim_feedforward_style=DIM_FEEDFORWARD_STYLE,\n",
        "            dropout_style=DROPOUT_STYLE,\n",
        "            n_layers_style=N_LAYERS_STYLE,\n",
        "            n_head_dec=N_HEAD_DEC,\n",
        "            dim_feedforward_dec=DIM_FEEDFORWARD_DEC,\n",
        "            dropout_dec=DROPOUT_DEC,\n",
        "            n_layers_dec=N_LAYERS_DEC,\n",
        "            lr=LR,\n",
        "            lambdas=LAMBDAS,\n",
        "            margin=MARGIN,\n",
        "            lr_patience=LR_PATIENCE,\n",
        "            lr_decay=LR_DECAY,\n",
        "            betas=BETAS,\n",
        "            results_path=RESULTS_PATH,\n",
        "            training_style=TRAINING_STYLE\n",
        "        )"
      ],
      "metadata": {
        "id": "PbwPF3j7wbuf",
        "colab": {
          "base_uri": "https://localhost:8080/"
        },
        "outputId": "1f064fac-090e-44b7-e4d7-c9a7c265dd29"
      },
      "id": "PbwPF3j7wbuf",
      "execution_count": 8,
      "outputs": [
        {
          "output_type": "stream",
          "name": "stderr",
          "text": [
            "/usr/local/lib/python3.11/dist-packages/torch/nn/modules/transformer.py:379: UserWarning: enable_nested_tensor is True, but self.use_nested_tensor is False because encoder_layer.norm_first was True\n",
            "  warnings.warn(\n",
            "Downloading: \"https://download.pytorch.org/models/vgg19-dcbb9e9d.pth\" to /root/.cache/torch/hub/checkpoints/vgg19-dcbb9e9d.pth\n",
            "100%|██████████| 548M/548M [00:02<00:00, 226MB/s]\n"
          ]
        }
      ]
    },
    {
      "cell_type": "markdown",
      "id": "49f494f0-c2b0-4942-a096-837b92781eea",
      "metadata": {
        "id": "49f494f0-c2b0-4942-a096-837b92781eea"
      },
      "source": [
        "### Model Training"
      ]
    },
    {
      "cell_type": "code",
      "source": [
        "## UPDATE THE BELOW PARAMETERS AS NEEDED ##\n",
        "# Early Stopping and Checkpoints\n",
        "MAX_EPOCHS = 30\n",
        "EARLY_STOPPING_PATIENCE = 3\n",
        "SAVE_TOP_K = 3\n",
        "CHECKPOINT_FILENAME = 'model-{epoch:02d}-{val_loss:.4f}'\n",
        "\n",
        "# Trainer\n",
        "ACCELERATOR = 'gpu'  # choose from “cpu”, “gpu”, “tpu”, “hpu”, “mps”, “auto”\n",
        "# more about strategy parameter here:\n",
        "# https://pytorch-lightning.readthedocs.io/en/1.6.5/extensions/strategy.html\n",
        "STRATEGY = \"auto\"\n",
        "DEVICES = 1  # number of accelerators for distributed training\n",
        "PRECISION = '32-true'   # '16-mixed'\n",
        "ACCUMULATE_GRAD_BATCHES = 1\n",
        "GRADIENT_CLIP_VAL = None"
      ],
      "metadata": {
        "id": "aoeDoxy6fD4E"
      },
      "id": "aoeDoxy6fD4E",
      "execution_count": 9,
      "outputs": []
    },
    {
      "cell_type": "code",
      "source": [
        "if TRAIN_MODEL:\n",
        "    # Early Stopping\n",
        "    early_stopping = EarlyStopping(\n",
        "        monitor='val_loss',\n",
        "        patience=EARLY_STOPPING_PATIENCE,\n",
        "        mode='min',\n",
        "    )\n",
        "    # Model Checkpoints\n",
        "    checkpoint = ModelCheckpoint(\n",
        "        monitor='val_loss',\n",
        "        mode='min',\n",
        "        save_top_k=SAVE_TOP_K,\n",
        "        filename=CHECKPOINT_FILENAME,\n",
        "        save_last=False\n",
        "    )\n",
        "\n",
        "    # PyTorch Lightning Trainer\n",
        "    trainer = pl.Trainer(\n",
        "        max_epochs=MAX_EPOCHS,\n",
        "        callbacks=[early_stopping, checkpoint],\n",
        "        accelerator=ACCELERATOR,\n",
        "        strategy=STRATEGY,\n",
        "        devices=DEVICES,\n",
        "        precision=PRECISION,\n",
        "        accumulate_grad_batches=ACCUMULATE_GRAD_BATCHES,\n",
        "        gradient_clip_val=GRADIENT_CLIP_VAL\n",
        "    )\n",
        "    torch.set_float32_matmul_precision('high')  # Precision setting for matrix multiplications\n",
        "    trainer.fit(model, datamodule=data_module)  # Train the model\n",
        "\n",
        "    # Test the model and store results\n",
        "    trainer.test(model=model, datamodule=data_module, ckpt_path=\"best\")"
      ],
      "metadata": {
        "id": "7FMUpLL0fD9m",
        "colab": {
          "base_uri": "https://localhost:8080/",
          "height": 503,
          "referenced_widgets": [
            "3d54f105a7de40dd900029242f2e1324",
            "8c96a42526674ec4ad2869a603b4b9a6",
            "918a61f8c7164958a75e72dfc465175e",
            "724fee22b16541da918ce5354ade9d97",
            "895276a896d14573866775455669391f",
            "57fda77e582742cc9ccf09952be8a1dc",
            "c3ea85a192584b7eba98a3601897f09a",
            "b0f44f3c6a924af1a7caaf0c03b9cd53",
            "173045dad3b6445483a7b19032ce3d1e",
            "e8f4110f995949288afdfc775c024117",
            "aed0cbb55990498487f87b8b0ddfd874",
            "2699579a5ba94d558c6a0281f28eb52a",
            "3b7e181a3f904fc7a625e04270f85735",
            "4569a1fbca2747a290ea1360f79a6881",
            "44bd6a1584754d308406d6242173fe0a",
            "12e6b8cc367545b59def4bef28e16692",
            "72b053179c3b44e5b1a315be398a1785",
            "cb01c9b0b2be4f9894ca348319c212cb",
            "fb9a5b994f4840d192381908846434fe",
            "84d5e9db9f054dd48ed50926210cded3",
            "04581212344743deb8ed5d07eb05ea68",
            "ca70ee6b8810461fb30ff16487d874c9"
          ]
        },
        "outputId": "7b79a217-6e12-4e8f-9230-10e7e4b95749"
      },
      "id": "7FMUpLL0fD9m",
      "execution_count": null,
      "outputs": [
        {
          "output_type": "stream",
          "name": "stderr",
          "text": [
            "INFO:pytorch_lightning.utilities.rank_zero:GPU available: True (cuda), used: True\n",
            "INFO:pytorch_lightning.utilities.rank_zero:TPU available: False, using: 0 TPU cores\n",
            "INFO:pytorch_lightning.utilities.rank_zero:IPU available: False, using: 0 IPUs\n",
            "INFO:pytorch_lightning.utilities.rank_zero:HPU available: False, using: 0 HPUs\n",
            "WARNING:pytorch_lightning.loggers.tensorboard:Missing logger folder: /content/drive/MyDrive/Deep_Learning/StyleTransfer_ViT/lightning_logs\n",
            "INFO:pytorch_lightning.accelerators.cuda:LOCAL_RANK: 0 - CUDA_VISIBLE_DEVICES: [0]\n",
            "INFO:pytorch_lightning.callbacks.model_summary:\n",
            "  | Name            | Type                      | Params\n",
            "--------------------------------------------------------------\n",
            "0 | content_patcher | ContentPatching           | 98.8 K\n",
            "1 | style_patcher   | StylePatching             | 98.8 K\n",
            "2 | cape            | CAPE                      | 262 K \n",
            "3 | content_encoder | ContentTransformerEncoder | 12.6 M\n",
            "4 | style_encoder   | StyleTransformerEncoder   | 12.6 M\n",
            "5 | decoder         | TransformerDecoder        | 16.8 M\n",
            "6 | cnn_decoder     | CNNDecoder                | 3.5 M \n",
            "7 | vgg_extractor   | VGGFeatureExtractor       | 20.0 M\n",
            "--------------------------------------------------------------\n",
            "46.0 M    Trainable params\n",
            "20.0 M    Non-trainable params\n",
            "66.0 M    Total params\n",
            "264.104   Total estimated model params size (MB)\n"
          ]
        },
        {
          "output_type": "display_data",
          "data": {
            "text/plain": [
              "Sanity Checking: 0it [00:00, ?it/s]"
            ],
            "application/vnd.jupyter.widget-view+json": {
              "version_major": 2,
              "version_minor": 0,
              "model_id": "3d54f105a7de40dd900029242f2e1324"
            }
          },
          "metadata": {}
        },
        {
          "output_type": "stream",
          "name": "stdout",
          "text": [
            "[0] c:2.1413 s:10.2983 i1:0.5915 i2:21.0071 sep:10.4107\n"
          ]
        },
        {
          "output_type": "display_data",
          "data": {
            "text/plain": [
              "Training: 0it [00:00, ?it/s]"
            ],
            "application/vnd.jupyter.widget-view+json": {
              "version_major": 2,
              "version_minor": 0,
              "model_id": "2699579a5ba94d558c6a0281f28eb52a"
            }
          },
          "metadata": {}
        },
        {
          "output_type": "stream",
          "name": "stdout",
          "text": [
            "[0] c:2.1416 s:13.4728 i1:0.6002 i2:24.2436 sep:7.5880\n",
            "[step 0] grad_norm: 1299.5956\n"
          ]
        }
      ]
    },
    {
      "cell_type": "code",
      "execution_count": null,
      "id": "024ab4c1-57b2-4d76-8b7d-8b12ce196eeb",
      "metadata": {
        "id": "024ab4c1-57b2-4d76-8b7d-8b12ce196eeb"
      },
      "outputs": [],
      "source": [
        "%load_ext tensorboard\n",
        "%tensorboard --logdir lightning_logs/"
      ]
    },
    {
      "cell_type": "markdown",
      "source": [
        "## Load Model from Checkpoint (if TRAIN_MODEL is False)"
      ],
      "metadata": {
        "id": "H8uxFp4kzbOB"
      },
      "id": "H8uxFp4kzbOB"
    },
    {
      "cell_type": "code",
      "source": [
        "CHECKPOINT_FILEPATH = \"lightning_logs/version_16/checkpoints/model-epoch=08-val_loss=43.1301.ckpt\""
      ],
      "metadata": {
        "id": "iHDWIMi1zpUq"
      },
      "id": "iHDWIMi1zpUq",
      "execution_count": null,
      "outputs": []
    },
    {
      "cell_type": "code",
      "source": [
        "gc.collect()\n",
        "torch.cuda.empty_cache()\n",
        "\n",
        "if TEST_MODEL:\n",
        "    # Load the trained model from the saved checkpoint\n",
        "    model = StyTR.load_from_checkpoint(CHECKPOINT_FILEPATH)\n",
        "\n",
        "    trainer = pl.Trainer(\n",
        "        logger=False,\n",
        "        accelerator=ACCELERATOR,\n",
        "        devices=DEVICES\n",
        "    )\n",
        "\n",
        "    # Set the float32 matrix multiplication precision for higher efficiency\n",
        "    torch.set_float32_matmul_precision('high')\n",
        "    trainer.test(model=model, datamodule=data_module)"
      ],
      "metadata": {
        "id": "uMcuojaby0xK"
      },
      "id": "uMcuojaby0xK",
      "execution_count": null,
      "outputs": []
    },
    {
      "cell_type": "markdown",
      "id": "ngt9hVGttRV8",
      "metadata": {
        "id": "ngt9hVGttRV8"
      },
      "source": [
        "### Visualizing Results"
      ]
    },
    {
      "cell_type": "code",
      "source": [
        "NUM_SAMPLES = 20"
      ],
      "metadata": {
        "id": "XDtQOs6B0XqO"
      },
      "id": "XDtQOs6B0XqO",
      "execution_count": null,
      "outputs": []
    },
    {
      "cell_type": "code",
      "execution_count": null,
      "id": "vI_bk5yjtmhi",
      "metadata": {
        "id": "vI_bk5yjtmhi"
      },
      "outputs": [],
      "source": [
        "content = np.load(join(RESULTS_PATH, 'content.npy'), mmap_mode=\"r+\")\n",
        "style = np.load(join(RESULTS_PATH, 'style.npy'), mmap_mode=\"r+\")\n",
        "stylized = np.load(join(RESULTS_PATH, 'stylized.npy'), mmap_mode=\"r+\")\n",
        "reverse_stylized = np.load(join(RESULTS_PATH, 'reverse_stylized.npy'), mmap_mode=\"r+\")"
      ]
    },
    {
      "cell_type": "code",
      "execution_count": null,
      "id": "hoPNu8UyAUR2",
      "metadata": {
        "id": "hoPNu8UyAUR2"
      },
      "outputs": [],
      "source": [
        "indices = np.random.choice(content.shape[0], size=NUM_SAMPLES, replace=False)\n",
        "fig, axes = plt.subplots(nrows=NUM_SAMPLES, ncols=4, figsize=(4*3, NUM_SAMPLES*3))\n",
        "for row, i in enumerate(indices):\n",
        "    c = np.transpose(content[i], axes=(1, 2, 0)).astype(np.uint8)\n",
        "    s = np.transpose(style[i], axes=(1, 2, 0)).astype(np.uint8)\n",
        "    t = np.transpose(stylized[i], axes=(1, 2, 0)).astype(np.uint8)\n",
        "    r = np.transpose(reverse_stylized[i], axes=(1, 2, 0)).astype(np.uint8)\n",
        "    axes[row][0].imshow(c)\n",
        "    axes[row][0].set_title(\"Content\")\n",
        "    axes[row][1].imshow(s)\n",
        "    axes[row][1].set_title(\"Style\")\n",
        "    axes[row][2].imshow(t)\n",
        "    axes[row][2].set_title(\"Stylized\")\n",
        "    axes[row][3].imshow(r)\n",
        "    axes[row][3].set_title(\"Reverse Stylized\")\n",
        "    for col in range(4):\n",
        "        axes[row][col].axis(\"off\")\n",
        "plt.tight_layout()\n",
        "plt.show()"
      ]
    },
    {
      "cell_type": "code",
      "execution_count": 19,
      "id": "PawZi04sAVPB",
      "metadata": {
        "id": "PawZi04sAVPB"
      },
      "outputs": [],
      "source": []
    }
  ],
  "metadata": {
    "accelerator": "GPU",
    "colab": {
      "gpuType": "A100",
      "provenance": []
    },
    "kernelspec": {
      "display_name": "Python 3",
      "name": "python3"
    },
    "language_info": {
      "codemirror_mode": {
        "name": "ipython",
        "version": 3
      },
      "file_extension": ".py",
      "mimetype": "text/x-python",
      "name": "python",
      "nbconvert_exporter": "python",
      "pygments_lexer": "ipython3",
      "version": "3.13.1"
    },
    "widgets": {
      "application/vnd.jupyter.widget-state+json": {
        "3d54f105a7de40dd900029242f2e1324": {
          "model_module": "@jupyter-widgets/controls",
          "model_name": "HBoxModel",
          "model_module_version": "1.5.0",
          "state": {
            "_dom_classes": [],
            "_model_module": "@jupyter-widgets/controls",
            "_model_module_version": "1.5.0",
            "_model_name": "HBoxModel",
            "_view_count": null,
            "_view_module": "@jupyter-widgets/controls",
            "_view_module_version": "1.5.0",
            "_view_name": "HBoxView",
            "box_style": "",
            "children": [
              "IPY_MODEL_8c96a42526674ec4ad2869a603b4b9a6",
              "IPY_MODEL_918a61f8c7164958a75e72dfc465175e",
              "IPY_MODEL_724fee22b16541da918ce5354ade9d97"
            ],
            "layout": "IPY_MODEL_895276a896d14573866775455669391f"
          }
        },
        "8c96a42526674ec4ad2869a603b4b9a6": {
          "model_module": "@jupyter-widgets/controls",
          "model_name": "HTMLModel",
          "model_module_version": "1.5.0",
          "state": {
            "_dom_classes": [],
            "_model_module": "@jupyter-widgets/controls",
            "_model_module_version": "1.5.0",
            "_model_name": "HTMLModel",
            "_view_count": null,
            "_view_module": "@jupyter-widgets/controls",
            "_view_module_version": "1.5.0",
            "_view_name": "HTMLView",
            "description": "",
            "description_tooltip": null,
            "layout": "IPY_MODEL_57fda77e582742cc9ccf09952be8a1dc",
            "placeholder": "​",
            "style": "IPY_MODEL_c3ea85a192584b7eba98a3601897f09a",
            "value": "Sanity Checking DataLoader 0: 100%"
          }
        },
        "918a61f8c7164958a75e72dfc465175e": {
          "model_module": "@jupyter-widgets/controls",
          "model_name": "FloatProgressModel",
          "model_module_version": "1.5.0",
          "state": {
            "_dom_classes": [],
            "_model_module": "@jupyter-widgets/controls",
            "_model_module_version": "1.5.0",
            "_model_name": "FloatProgressModel",
            "_view_count": null,
            "_view_module": "@jupyter-widgets/controls",
            "_view_module_version": "1.5.0",
            "_view_name": "ProgressView",
            "bar_style": "",
            "description": "",
            "description_tooltip": null,
            "layout": "IPY_MODEL_b0f44f3c6a924af1a7caaf0c03b9cd53",
            "max": 2,
            "min": 0,
            "orientation": "horizontal",
            "style": "IPY_MODEL_173045dad3b6445483a7b19032ce3d1e",
            "value": 2
          }
        },
        "724fee22b16541da918ce5354ade9d97": {
          "model_module": "@jupyter-widgets/controls",
          "model_name": "HTMLModel",
          "model_module_version": "1.5.0",
          "state": {
            "_dom_classes": [],
            "_model_module": "@jupyter-widgets/controls",
            "_model_module_version": "1.5.0",
            "_model_name": "HTMLModel",
            "_view_count": null,
            "_view_module": "@jupyter-widgets/controls",
            "_view_module_version": "1.5.0",
            "_view_name": "HTMLView",
            "description": "",
            "description_tooltip": null,
            "layout": "IPY_MODEL_e8f4110f995949288afdfc775c024117",
            "placeholder": "​",
            "style": "IPY_MODEL_aed0cbb55990498487f87b8b0ddfd874",
            "value": " 2/2 [00:00&lt;00:00,  2.41it/s]"
          }
        },
        "895276a896d14573866775455669391f": {
          "model_module": "@jupyter-widgets/base",
          "model_name": "LayoutModel",
          "model_module_version": "1.2.0",
          "state": {
            "_model_module": "@jupyter-widgets/base",
            "_model_module_version": "1.2.0",
            "_model_name": "LayoutModel",
            "_view_count": null,
            "_view_module": "@jupyter-widgets/base",
            "_view_module_version": "1.2.0",
            "_view_name": "LayoutView",
            "align_content": null,
            "align_items": null,
            "align_self": null,
            "border": null,
            "bottom": null,
            "display": "inline-flex",
            "flex": null,
            "flex_flow": "row wrap",
            "grid_area": null,
            "grid_auto_columns": null,
            "grid_auto_flow": null,
            "grid_auto_rows": null,
            "grid_column": null,
            "grid_gap": null,
            "grid_row": null,
            "grid_template_areas": null,
            "grid_template_columns": null,
            "grid_template_rows": null,
            "height": null,
            "justify_content": null,
            "justify_items": null,
            "left": null,
            "margin": null,
            "max_height": null,
            "max_width": null,
            "min_height": null,
            "min_width": null,
            "object_fit": null,
            "object_position": null,
            "order": null,
            "overflow": null,
            "overflow_x": null,
            "overflow_y": null,
            "padding": null,
            "right": null,
            "top": null,
            "visibility": "hidden",
            "width": "100%"
          }
        },
        "57fda77e582742cc9ccf09952be8a1dc": {
          "model_module": "@jupyter-widgets/base",
          "model_name": "LayoutModel",
          "model_module_version": "1.2.0",
          "state": {
            "_model_module": "@jupyter-widgets/base",
            "_model_module_version": "1.2.0",
            "_model_name": "LayoutModel",
            "_view_count": null,
            "_view_module": "@jupyter-widgets/base",
            "_view_module_version": "1.2.0",
            "_view_name": "LayoutView",
            "align_content": null,
            "align_items": null,
            "align_self": null,
            "border": null,
            "bottom": null,
            "display": null,
            "flex": null,
            "flex_flow": null,
            "grid_area": null,
            "grid_auto_columns": null,
            "grid_auto_flow": null,
            "grid_auto_rows": null,
            "grid_column": null,
            "grid_gap": null,
            "grid_row": null,
            "grid_template_areas": null,
            "grid_template_columns": null,
            "grid_template_rows": null,
            "height": null,
            "justify_content": null,
            "justify_items": null,
            "left": null,
            "margin": null,
            "max_height": null,
            "max_width": null,
            "min_height": null,
            "min_width": null,
            "object_fit": null,
            "object_position": null,
            "order": null,
            "overflow": null,
            "overflow_x": null,
            "overflow_y": null,
            "padding": null,
            "right": null,
            "top": null,
            "visibility": null,
            "width": null
          }
        },
        "c3ea85a192584b7eba98a3601897f09a": {
          "model_module": "@jupyter-widgets/controls",
          "model_name": "DescriptionStyleModel",
          "model_module_version": "1.5.0",
          "state": {
            "_model_module": "@jupyter-widgets/controls",
            "_model_module_version": "1.5.0",
            "_model_name": "DescriptionStyleModel",
            "_view_count": null,
            "_view_module": "@jupyter-widgets/base",
            "_view_module_version": "1.2.0",
            "_view_name": "StyleView",
            "description_width": ""
          }
        },
        "b0f44f3c6a924af1a7caaf0c03b9cd53": {
          "model_module": "@jupyter-widgets/base",
          "model_name": "LayoutModel",
          "model_module_version": "1.2.0",
          "state": {
            "_model_module": "@jupyter-widgets/base",
            "_model_module_version": "1.2.0",
            "_model_name": "LayoutModel",
            "_view_count": null,
            "_view_module": "@jupyter-widgets/base",
            "_view_module_version": "1.2.0",
            "_view_name": "LayoutView",
            "align_content": null,
            "align_items": null,
            "align_self": null,
            "border": null,
            "bottom": null,
            "display": null,
            "flex": "2",
            "flex_flow": null,
            "grid_area": null,
            "grid_auto_columns": null,
            "grid_auto_flow": null,
            "grid_auto_rows": null,
            "grid_column": null,
            "grid_gap": null,
            "grid_row": null,
            "grid_template_areas": null,
            "grid_template_columns": null,
            "grid_template_rows": null,
            "height": null,
            "justify_content": null,
            "justify_items": null,
            "left": null,
            "margin": null,
            "max_height": null,
            "max_width": null,
            "min_height": null,
            "min_width": null,
            "object_fit": null,
            "object_position": null,
            "order": null,
            "overflow": null,
            "overflow_x": null,
            "overflow_y": null,
            "padding": null,
            "right": null,
            "top": null,
            "visibility": null,
            "width": null
          }
        },
        "173045dad3b6445483a7b19032ce3d1e": {
          "model_module": "@jupyter-widgets/controls",
          "model_name": "ProgressStyleModel",
          "model_module_version": "1.5.0",
          "state": {
            "_model_module": "@jupyter-widgets/controls",
            "_model_module_version": "1.5.0",
            "_model_name": "ProgressStyleModel",
            "_view_count": null,
            "_view_module": "@jupyter-widgets/base",
            "_view_module_version": "1.2.0",
            "_view_name": "StyleView",
            "bar_color": null,
            "description_width": ""
          }
        },
        "e8f4110f995949288afdfc775c024117": {
          "model_module": "@jupyter-widgets/base",
          "model_name": "LayoutModel",
          "model_module_version": "1.2.0",
          "state": {
            "_model_module": "@jupyter-widgets/base",
            "_model_module_version": "1.2.0",
            "_model_name": "LayoutModel",
            "_view_count": null,
            "_view_module": "@jupyter-widgets/base",
            "_view_module_version": "1.2.0",
            "_view_name": "LayoutView",
            "align_content": null,
            "align_items": null,
            "align_self": null,
            "border": null,
            "bottom": null,
            "display": null,
            "flex": null,
            "flex_flow": null,
            "grid_area": null,
            "grid_auto_columns": null,
            "grid_auto_flow": null,
            "grid_auto_rows": null,
            "grid_column": null,
            "grid_gap": null,
            "grid_row": null,
            "grid_template_areas": null,
            "grid_template_columns": null,
            "grid_template_rows": null,
            "height": null,
            "justify_content": null,
            "justify_items": null,
            "left": null,
            "margin": null,
            "max_height": null,
            "max_width": null,
            "min_height": null,
            "min_width": null,
            "object_fit": null,
            "object_position": null,
            "order": null,
            "overflow": null,
            "overflow_x": null,
            "overflow_y": null,
            "padding": null,
            "right": null,
            "top": null,
            "visibility": null,
            "width": null
          }
        },
        "aed0cbb55990498487f87b8b0ddfd874": {
          "model_module": "@jupyter-widgets/controls",
          "model_name": "DescriptionStyleModel",
          "model_module_version": "1.5.0",
          "state": {
            "_model_module": "@jupyter-widgets/controls",
            "_model_module_version": "1.5.0",
            "_model_name": "DescriptionStyleModel",
            "_view_count": null,
            "_view_module": "@jupyter-widgets/base",
            "_view_module_version": "1.2.0",
            "_view_name": "StyleView",
            "description_width": ""
          }
        },
        "2699579a5ba94d558c6a0281f28eb52a": {
          "model_module": "@jupyter-widgets/controls",
          "model_name": "HBoxModel",
          "model_module_version": "1.5.0",
          "state": {
            "_dom_classes": [],
            "_model_module": "@jupyter-widgets/controls",
            "_model_module_version": "1.5.0",
            "_model_name": "HBoxModel",
            "_view_count": null,
            "_view_module": "@jupyter-widgets/controls",
            "_view_module_version": "1.5.0",
            "_view_name": "HBoxView",
            "box_style": "",
            "children": [
              "IPY_MODEL_3b7e181a3f904fc7a625e04270f85735",
              "IPY_MODEL_4569a1fbca2747a290ea1360f79a6881",
              "IPY_MODEL_44bd6a1584754d308406d6242173fe0a"
            ],
            "layout": "IPY_MODEL_12e6b8cc367545b59def4bef28e16692"
          }
        },
        "3b7e181a3f904fc7a625e04270f85735": {
          "model_module": "@jupyter-widgets/controls",
          "model_name": "HTMLModel",
          "model_module_version": "1.5.0",
          "state": {
            "_dom_classes": [],
            "_model_module": "@jupyter-widgets/controls",
            "_model_module_version": "1.5.0",
            "_model_name": "HTMLModel",
            "_view_count": null,
            "_view_module": "@jupyter-widgets/controls",
            "_view_module_version": "1.5.0",
            "_view_name": "HTMLView",
            "description": "",
            "description_tooltip": null,
            "layout": "IPY_MODEL_72b053179c3b44e5b1a315be398a1785",
            "placeholder": "​",
            "style": "IPY_MODEL_cb01c9b0b2be4f9894ca348319c212cb",
            "value": "Epoch 0:   2%"
          }
        },
        "4569a1fbca2747a290ea1360f79a6881": {
          "model_module": "@jupyter-widgets/controls",
          "model_name": "FloatProgressModel",
          "model_module_version": "1.5.0",
          "state": {
            "_dom_classes": [],
            "_model_module": "@jupyter-widgets/controls",
            "_model_module_version": "1.5.0",
            "_model_name": "FloatProgressModel",
            "_view_count": null,
            "_view_module": "@jupyter-widgets/controls",
            "_view_module_version": "1.5.0",
            "_view_name": "ProgressView",
            "bar_style": "",
            "description": "",
            "description_tooltip": null,
            "layout": "IPY_MODEL_fb9a5b994f4840d192381908846434fe",
            "max": 2250,
            "min": 0,
            "orientation": "horizontal",
            "style": "IPY_MODEL_84d5e9db9f054dd48ed50926210cded3",
            "value": 40
          }
        },
        "44bd6a1584754d308406d6242173fe0a": {
          "model_module": "@jupyter-widgets/controls",
          "model_name": "HTMLModel",
          "model_module_version": "1.5.0",
          "state": {
            "_dom_classes": [],
            "_model_module": "@jupyter-widgets/controls",
            "_model_module_version": "1.5.0",
            "_model_name": "HTMLModel",
            "_view_count": null,
            "_view_module": "@jupyter-widgets/controls",
            "_view_module_version": "1.5.0",
            "_view_name": "HTMLView",
            "description": "",
            "description_tooltip": null,
            "layout": "IPY_MODEL_04581212344743deb8ed5d07eb05ea68",
            "placeholder": "​",
            "style": "IPY_MODEL_ca70ee6b8810461fb30ff16487d874c9",
            "value": " 40/2250 [00:53&lt;49:42,  1.35s/it, v_num=0, train_loss=134.0]"
          }
        },
        "12e6b8cc367545b59def4bef28e16692": {
          "model_module": "@jupyter-widgets/base",
          "model_name": "LayoutModel",
          "model_module_version": "1.2.0",
          "state": {
            "_model_module": "@jupyter-widgets/base",
            "_model_module_version": "1.2.0",
            "_model_name": "LayoutModel",
            "_view_count": null,
            "_view_module": "@jupyter-widgets/base",
            "_view_module_version": "1.2.0",
            "_view_name": "LayoutView",
            "align_content": null,
            "align_items": null,
            "align_self": null,
            "border": null,
            "bottom": null,
            "display": "inline-flex",
            "flex": null,
            "flex_flow": "row wrap",
            "grid_area": null,
            "grid_auto_columns": null,
            "grid_auto_flow": null,
            "grid_auto_rows": null,
            "grid_column": null,
            "grid_gap": null,
            "grid_row": null,
            "grid_template_areas": null,
            "grid_template_columns": null,
            "grid_template_rows": null,
            "height": null,
            "justify_content": null,
            "justify_items": null,
            "left": null,
            "margin": null,
            "max_height": null,
            "max_width": null,
            "min_height": null,
            "min_width": null,
            "object_fit": null,
            "object_position": null,
            "order": null,
            "overflow": null,
            "overflow_x": null,
            "overflow_y": null,
            "padding": null,
            "right": null,
            "top": null,
            "visibility": null,
            "width": "100%"
          }
        },
        "72b053179c3b44e5b1a315be398a1785": {
          "model_module": "@jupyter-widgets/base",
          "model_name": "LayoutModel",
          "model_module_version": "1.2.0",
          "state": {
            "_model_module": "@jupyter-widgets/base",
            "_model_module_version": "1.2.0",
            "_model_name": "LayoutModel",
            "_view_count": null,
            "_view_module": "@jupyter-widgets/base",
            "_view_module_version": "1.2.0",
            "_view_name": "LayoutView",
            "align_content": null,
            "align_items": null,
            "align_self": null,
            "border": null,
            "bottom": null,
            "display": null,
            "flex": null,
            "flex_flow": null,
            "grid_area": null,
            "grid_auto_columns": null,
            "grid_auto_flow": null,
            "grid_auto_rows": null,
            "grid_column": null,
            "grid_gap": null,
            "grid_row": null,
            "grid_template_areas": null,
            "grid_template_columns": null,
            "grid_template_rows": null,
            "height": null,
            "justify_content": null,
            "justify_items": null,
            "left": null,
            "margin": null,
            "max_height": null,
            "max_width": null,
            "min_height": null,
            "min_width": null,
            "object_fit": null,
            "object_position": null,
            "order": null,
            "overflow": null,
            "overflow_x": null,
            "overflow_y": null,
            "padding": null,
            "right": null,
            "top": null,
            "visibility": null,
            "width": null
          }
        },
        "cb01c9b0b2be4f9894ca348319c212cb": {
          "model_module": "@jupyter-widgets/controls",
          "model_name": "DescriptionStyleModel",
          "model_module_version": "1.5.0",
          "state": {
            "_model_module": "@jupyter-widgets/controls",
            "_model_module_version": "1.5.0",
            "_model_name": "DescriptionStyleModel",
            "_view_count": null,
            "_view_module": "@jupyter-widgets/base",
            "_view_module_version": "1.2.0",
            "_view_name": "StyleView",
            "description_width": ""
          }
        },
        "fb9a5b994f4840d192381908846434fe": {
          "model_module": "@jupyter-widgets/base",
          "model_name": "LayoutModel",
          "model_module_version": "1.2.0",
          "state": {
            "_model_module": "@jupyter-widgets/base",
            "_model_module_version": "1.2.0",
            "_model_name": "LayoutModel",
            "_view_count": null,
            "_view_module": "@jupyter-widgets/base",
            "_view_module_version": "1.2.0",
            "_view_name": "LayoutView",
            "align_content": null,
            "align_items": null,
            "align_self": null,
            "border": null,
            "bottom": null,
            "display": null,
            "flex": "2",
            "flex_flow": null,
            "grid_area": null,
            "grid_auto_columns": null,
            "grid_auto_flow": null,
            "grid_auto_rows": null,
            "grid_column": null,
            "grid_gap": null,
            "grid_row": null,
            "grid_template_areas": null,
            "grid_template_columns": null,
            "grid_template_rows": null,
            "height": null,
            "justify_content": null,
            "justify_items": null,
            "left": null,
            "margin": null,
            "max_height": null,
            "max_width": null,
            "min_height": null,
            "min_width": null,
            "object_fit": null,
            "object_position": null,
            "order": null,
            "overflow": null,
            "overflow_x": null,
            "overflow_y": null,
            "padding": null,
            "right": null,
            "top": null,
            "visibility": null,
            "width": null
          }
        },
        "84d5e9db9f054dd48ed50926210cded3": {
          "model_module": "@jupyter-widgets/controls",
          "model_name": "ProgressStyleModel",
          "model_module_version": "1.5.0",
          "state": {
            "_model_module": "@jupyter-widgets/controls",
            "_model_module_version": "1.5.0",
            "_model_name": "ProgressStyleModel",
            "_view_count": null,
            "_view_module": "@jupyter-widgets/base",
            "_view_module_version": "1.2.0",
            "_view_name": "StyleView",
            "bar_color": null,
            "description_width": ""
          }
        },
        "04581212344743deb8ed5d07eb05ea68": {
          "model_module": "@jupyter-widgets/base",
          "model_name": "LayoutModel",
          "model_module_version": "1.2.0",
          "state": {
            "_model_module": "@jupyter-widgets/base",
            "_model_module_version": "1.2.0",
            "_model_name": "LayoutModel",
            "_view_count": null,
            "_view_module": "@jupyter-widgets/base",
            "_view_module_version": "1.2.0",
            "_view_name": "LayoutView",
            "align_content": null,
            "align_items": null,
            "align_self": null,
            "border": null,
            "bottom": null,
            "display": null,
            "flex": null,
            "flex_flow": null,
            "grid_area": null,
            "grid_auto_columns": null,
            "grid_auto_flow": null,
            "grid_auto_rows": null,
            "grid_column": null,
            "grid_gap": null,
            "grid_row": null,
            "grid_template_areas": null,
            "grid_template_columns": null,
            "grid_template_rows": null,
            "height": null,
            "justify_content": null,
            "justify_items": null,
            "left": null,
            "margin": null,
            "max_height": null,
            "max_width": null,
            "min_height": null,
            "min_width": null,
            "object_fit": null,
            "object_position": null,
            "order": null,
            "overflow": null,
            "overflow_x": null,
            "overflow_y": null,
            "padding": null,
            "right": null,
            "top": null,
            "visibility": null,
            "width": null
          }
        },
        "ca70ee6b8810461fb30ff16487d874c9": {
          "model_module": "@jupyter-widgets/controls",
          "model_name": "DescriptionStyleModel",
          "model_module_version": "1.5.0",
          "state": {
            "_model_module": "@jupyter-widgets/controls",
            "_model_module_version": "1.5.0",
            "_model_name": "DescriptionStyleModel",
            "_view_count": null,
            "_view_module": "@jupyter-widgets/base",
            "_view_module_version": "1.2.0",
            "_view_name": "StyleView",
            "description_width": ""
          }
        }
      }
    }
  },
  "nbformat": 4,
  "nbformat_minor": 5
}